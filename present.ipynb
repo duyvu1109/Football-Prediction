{
 "cells": [
  {
   "cell_type": "code",
   "execution_count": 1,
   "metadata": {},
   "outputs": [
    {
     "name": "stdout",
     "output_type": "stream",
     "text": [
      "<class 'pandas.core.frame.DataFrame'>\n",
      "RangeIndex: 28500 entries, 0 to 28499\n",
      "Data columns (total 6 columns):\n",
      " #   Column    Non-Null Count  Dtype \n",
      "---  ------    --------------  ----- \n",
      " 0   Date      3800 non-null   object\n",
      " 1   HomeTeam  28500 non-null  object\n",
      " 2   AwayTeam  28500 non-null  object\n",
      " 3   FTHG      28500 non-null  int64 \n",
      " 4   FTAG      28500 non-null  int64 \n",
      " 5   FTR       28500 non-null  object\n",
      "dtypes: int64(2), object(4)\n",
      "memory usage: 1.3+ MB\n"
     ]
    }
   ],
   "source": [
    "import pandas as pd\n",
    "data = pd.read_csv('.\\\\Data\\\\merged.csv')\n",
    "data.info()"
   ]
  },
  {
   "cell_type": "code",
   "execution_count": 2,
   "metadata": {},
   "outputs": [
    {
     "data": {
      "text/html": [
       "<div>\n",
       "<style scoped>\n",
       "    .dataframe tbody tr th:only-of-type {\n",
       "        vertical-align: middle;\n",
       "    }\n",
       "\n",
       "    .dataframe tbody tr th {\n",
       "        vertical-align: top;\n",
       "    }\n",
       "\n",
       "    .dataframe thead th {\n",
       "        text-align: right;\n",
       "    }\n",
       "</style>\n",
       "<table border=\"1\" class=\"dataframe\">\n",
       "  <thead>\n",
       "    <tr style=\"text-align: right;\">\n",
       "      <th></th>\n",
       "      <th>Date</th>\n",
       "      <th>HomeTeam</th>\n",
       "      <th>AwayTeam</th>\n",
       "      <th>FTHG</th>\n",
       "      <th>FTAG</th>\n",
       "      <th>FTR</th>\n",
       "    </tr>\n",
       "  </thead>\n",
       "  <tbody>\n",
       "    <tr>\n",
       "      <th>0</th>\n",
       "      <td>13/08/16</td>\n",
       "      <td>Burnley</td>\n",
       "      <td>Swansea</td>\n",
       "      <td>0</td>\n",
       "      <td>1</td>\n",
       "      <td>A</td>\n",
       "    </tr>\n",
       "    <tr>\n",
       "      <th>1</th>\n",
       "      <td>13/08/16</td>\n",
       "      <td>Crystal Palace</td>\n",
       "      <td>West Brom</td>\n",
       "      <td>0</td>\n",
       "      <td>1</td>\n",
       "      <td>A</td>\n",
       "    </tr>\n",
       "    <tr>\n",
       "      <th>2</th>\n",
       "      <td>13/08/16</td>\n",
       "      <td>Everton</td>\n",
       "      <td>Tottenham</td>\n",
       "      <td>1</td>\n",
       "      <td>1</td>\n",
       "      <td>D</td>\n",
       "    </tr>\n",
       "    <tr>\n",
       "      <th>3</th>\n",
       "      <td>13/08/16</td>\n",
       "      <td>Hull</td>\n",
       "      <td>Leicester</td>\n",
       "      <td>2</td>\n",
       "      <td>1</td>\n",
       "      <td>H</td>\n",
       "    </tr>\n",
       "    <tr>\n",
       "      <th>4</th>\n",
       "      <td>13/08/16</td>\n",
       "      <td>Man City</td>\n",
       "      <td>Sunderland</td>\n",
       "      <td>2</td>\n",
       "      <td>1</td>\n",
       "      <td>H</td>\n",
       "    </tr>\n",
       "    <tr>\n",
       "      <th>5</th>\n",
       "      <td>13/08/16</td>\n",
       "      <td>Middlesbrough</td>\n",
       "      <td>Stoke</td>\n",
       "      <td>1</td>\n",
       "      <td>1</td>\n",
       "      <td>D</td>\n",
       "    </tr>\n",
       "    <tr>\n",
       "      <th>6</th>\n",
       "      <td>13/08/16</td>\n",
       "      <td>Southampton</td>\n",
       "      <td>Watford</td>\n",
       "      <td>1</td>\n",
       "      <td>1</td>\n",
       "      <td>D</td>\n",
       "    </tr>\n",
       "    <tr>\n",
       "      <th>7</th>\n",
       "      <td>14/08/16</td>\n",
       "      <td>Arsenal</td>\n",
       "      <td>Liverpool</td>\n",
       "      <td>3</td>\n",
       "      <td>4</td>\n",
       "      <td>A</td>\n",
       "    </tr>\n",
       "    <tr>\n",
       "      <th>8</th>\n",
       "      <td>14/08/16</td>\n",
       "      <td>Bournemouth</td>\n",
       "      <td>Man United</td>\n",
       "      <td>1</td>\n",
       "      <td>3</td>\n",
       "      <td>A</td>\n",
       "    </tr>\n",
       "    <tr>\n",
       "      <th>9</th>\n",
       "      <td>15/08/16</td>\n",
       "      <td>Chelsea</td>\n",
       "      <td>West Ham</td>\n",
       "      <td>2</td>\n",
       "      <td>1</td>\n",
       "      <td>H</td>\n",
       "    </tr>\n",
       "  </tbody>\n",
       "</table>\n",
       "</div>"
      ],
      "text/plain": [
       "       Date        HomeTeam    AwayTeam  FTHG  FTAG FTR\n",
       "0  13/08/16         Burnley     Swansea     0     1   A\n",
       "1  13/08/16  Crystal Palace   West Brom     0     1   A\n",
       "2  13/08/16         Everton   Tottenham     1     1   D\n",
       "3  13/08/16            Hull   Leicester     2     1   H\n",
       "4  13/08/16        Man City  Sunderland     2     1   H\n",
       "5  13/08/16   Middlesbrough       Stoke     1     1   D\n",
       "6  13/08/16     Southampton     Watford     1     1   D\n",
       "7  14/08/16         Arsenal   Liverpool     3     4   A\n",
       "8  14/08/16     Bournemouth  Man United     1     3   A\n",
       "9  15/08/16         Chelsea    West Ham     2     1   H"
      ]
     },
     "execution_count": 2,
     "metadata": {},
     "output_type": "execute_result"
    }
   ],
   "source": [
    "data.head(10)"
   ]
  },
  {
   "cell_type": "code",
   "execution_count": 3,
   "metadata": {},
   "outputs": [
    {
     "data": {
      "text/html": [
       "<div>\n",
       "<style scoped>\n",
       "    .dataframe tbody tr th:only-of-type {\n",
       "        vertical-align: middle;\n",
       "    }\n",
       "\n",
       "    .dataframe tbody tr th {\n",
       "        vertical-align: top;\n",
       "    }\n",
       "\n",
       "    .dataframe thead th {\n",
       "        text-align: right;\n",
       "    }\n",
       "</style>\n",
       "<table border=\"1\" class=\"dataframe\">\n",
       "  <thead>\n",
       "    <tr style=\"text-align: right;\">\n",
       "      <th></th>\n",
       "      <th>FTHG</th>\n",
       "      <th>FTAG</th>\n",
       "    </tr>\n",
       "  </thead>\n",
       "  <tbody>\n",
       "    <tr>\n",
       "      <th>count</th>\n",
       "      <td>28500.000000</td>\n",
       "      <td>28500.000000</td>\n",
       "    </tr>\n",
       "    <tr>\n",
       "      <th>mean</th>\n",
       "      <td>1.513158</td>\n",
       "      <td>1.230000</td>\n",
       "    </tr>\n",
       "    <tr>\n",
       "      <th>std</th>\n",
       "      <td>1.307224</td>\n",
       "      <td>1.209303</td>\n",
       "    </tr>\n",
       "    <tr>\n",
       "      <th>min</th>\n",
       "      <td>0.000000</td>\n",
       "      <td>0.000000</td>\n",
       "    </tr>\n",
       "    <tr>\n",
       "      <th>25%</th>\n",
       "      <td>1.000000</td>\n",
       "      <td>0.000000</td>\n",
       "    </tr>\n",
       "    <tr>\n",
       "      <th>50%</th>\n",
       "      <td>1.000000</td>\n",
       "      <td>1.000000</td>\n",
       "    </tr>\n",
       "    <tr>\n",
       "      <th>75%</th>\n",
       "      <td>2.000000</td>\n",
       "      <td>2.000000</td>\n",
       "    </tr>\n",
       "    <tr>\n",
       "      <th>max</th>\n",
       "      <td>9.000000</td>\n",
       "      <td>9.000000</td>\n",
       "    </tr>\n",
       "  </tbody>\n",
       "</table>\n",
       "</div>"
      ],
      "text/plain": [
       "               FTHG          FTAG\n",
       "count  28500.000000  28500.000000\n",
       "mean       1.513158      1.230000\n",
       "std        1.307224      1.209303\n",
       "min        0.000000      0.000000\n",
       "25%        1.000000      0.000000\n",
       "50%        1.000000      1.000000\n",
       "75%        2.000000      2.000000\n",
       "max        9.000000      9.000000"
      ]
     },
     "execution_count": 3,
     "metadata": {},
     "output_type": "execute_result"
    }
   ],
   "source": [
    "data.describe()"
   ]
  },
  {
   "cell_type": "code",
   "execution_count": 4,
   "metadata": {},
   "outputs": [
    {
     "data": {
      "text/html": [
       "<div>\n",
       "<style scoped>\n",
       "    .dataframe tbody tr th:only-of-type {\n",
       "        vertical-align: middle;\n",
       "    }\n",
       "\n",
       "    .dataframe tbody tr th {\n",
       "        vertical-align: top;\n",
       "    }\n",
       "\n",
       "    .dataframe thead th {\n",
       "        text-align: right;\n",
       "    }\n",
       "</style>\n",
       "<table border=\"1\" class=\"dataframe\">\n",
       "  <thead>\n",
       "    <tr style=\"text-align: right;\">\n",
       "      <th></th>\n",
       "      <th>Date</th>\n",
       "      <th>HomeTeam</th>\n",
       "      <th>AwayTeam</th>\n",
       "      <th>FTHG</th>\n",
       "      <th>FTAG</th>\n",
       "      <th>FTR</th>\n",
       "    </tr>\n",
       "  </thead>\n",
       "  <tbody>\n",
       "    <tr>\n",
       "      <th>125</th>\n",
       "      <td>26/11/16</td>\n",
       "      <td>Swansea</td>\n",
       "      <td>Crystal Palace</td>\n",
       "      <td>5</td>\n",
       "      <td>4</td>\n",
       "      <td>H</td>\n",
       "    </tr>\n",
       "  </tbody>\n",
       "</table>\n",
       "</div>"
      ],
      "text/plain": [
       "         Date HomeTeam        AwayTeam  FTHG  FTAG FTR\n",
       "125  26/11/16  Swansea  Crystal Palace     5     4   H"
      ]
     },
     "execution_count": 4,
     "metadata": {},
     "output_type": "execute_result"
    }
   ],
   "source": [
    "import numpy as np\n",
    "# Max Goal Match\n",
    "data.loc[[np.argmax(data.FTAG + data.FTHG)]]"
   ]
  },
  {
   "cell_type": "code",
   "execution_count": 5,
   "metadata": {},
   "outputs": [
    {
     "data": {
      "text/plain": [
       "([<matplotlib.axis.XTick at 0x17862b8aee0>,\n",
       "  <matplotlib.axis.XTick at 0x17862b8aeb0>,\n",
       "  <matplotlib.axis.XTick at 0x17862b8a5b0>,\n",
       "  <matplotlib.axis.XTick at 0x17862bf2df0>,\n",
       "  <matplotlib.axis.XTick at 0x17862c04580>,\n",
       "  <matplotlib.axis.XTick at 0x17862c04cd0>,\n",
       "  <matplotlib.axis.XTick at 0x17862c0a460>,\n",
       "  <matplotlib.axis.XTick at 0x17862c045e0>,\n",
       "  <matplotlib.axis.XTick at 0x17862c0a7c0>,\n",
       "  <matplotlib.axis.XTick at 0x17862c0af10>,\n",
       "  <matplotlib.axis.XTick at 0x17862c116a0>,\n",
       "  <matplotlib.axis.XTick at 0x17862c11df0>,\n",
       "  <matplotlib.axis.XTick at 0x17862c18580>,\n",
       "  <matplotlib.axis.XTick at 0x17862c11ac0>,\n",
       "  <matplotlib.axis.XTick at 0x17862c0a130>,\n",
       "  <matplotlib.axis.XTick at 0x17862c18100>,\n",
       "  <matplotlib.axis.XTick at 0x17862c1f340>,\n",
       "  <matplotlib.axis.XTick at 0x17862c1fa90>],\n",
       " [Text(0, 0, ''),\n",
       "  Text(0, 0, ''),\n",
       "  Text(0, 0, ''),\n",
       "  Text(0, 0, ''),\n",
       "  Text(0, 0, ''),\n",
       "  Text(0, 0, ''),\n",
       "  Text(0, 0, ''),\n",
       "  Text(0, 0, ''),\n",
       "  Text(0, 0, ''),\n",
       "  Text(0, 0, ''),\n",
       "  Text(0, 0, ''),\n",
       "  Text(0, 0, ''),\n",
       "  Text(0, 0, ''),\n",
       "  Text(0, 0, ''),\n",
       "  Text(0, 0, ''),\n",
       "  Text(0, 0, ''),\n",
       "  Text(0, 0, ''),\n",
       "  Text(0, 0, '')])"
      ]
     },
     "execution_count": 5,
     "metadata": {},
     "output_type": "execute_result"
    },
    {
     "data": {
      "image/png": "[encoded data removed]",
      "text/plain": [
       "<Figure size 720x360 with 1 Axes>"
      ]
     },
     "metadata": {
      "needs_background": "light"
     },
     "output_type": "display_data"
    }
   ],
   "source": [
    "# most_probable home score\n",
    "import matplotlib.pyplot as plt\n",
    "%matplotlib inline\n",
    "fig = plt.figure(figsize = (10,5))\n",
    "ax = fig.gca()\n",
    "plt.hist(data.FTHG,bins=10,edgecolor='white')\n",
    "plt.xticks(range(18))"
   ]
  },
  {
   "cell_type": "code",
   "execution_count": 6,
   "metadata": {},
   "outputs": [
    {
     "data": {
      "text/plain": [
       "([<matplotlib.axis.XTick at 0x17862cd2910>,\n",
       "  <matplotlib.axis.XTick at 0x17862cd28e0>,\n",
       "  <matplotlib.axis.XTick at 0x1787fb253d0>,\n",
       "  <matplotlib.axis.XTick at 0x17862d16610>,\n",
       "  <matplotlib.axis.XTick at 0x17862d16d60>,\n",
       "  <matplotlib.axis.XTick at 0x17862d204f0>,\n",
       "  <matplotlib.axis.XTick at 0x17862d16dc0>,\n",
       "  <matplotlib.axis.XTick at 0x17862d207f0>,\n",
       "  <matplotlib.axis.XTick at 0x17862d26190>,\n",
       "  <matplotlib.axis.XTick at 0x17862d268e0>,\n",
       "  <matplotlib.axis.XTick at 0x17862d2b130>,\n",
       "  <matplotlib.axis.XTick at 0x17862d2b7c0>,\n",
       "  <matplotlib.axis.XTick at 0x17862d2bf10>,\n",
       "  <matplotlib.axis.XTick at 0x17862d2b820>,\n",
       "  <matplotlib.axis.XTick at 0x17862d264c0>,\n",
       "  <matplotlib.axis.XTick at 0x17862d33460>,\n",
       "  <matplotlib.axis.XTick at 0x17862d33bb0>,\n",
       "  <matplotlib.axis.XTick at 0x17862d3c340>,\n",
       "  <matplotlib.axis.XTick at 0x17862d3ca90>,\n",
       "  <matplotlib.axis.XTick at 0x17862d3cca0>],\n",
       " [Text(0, 0, ''),\n",
       "  Text(0, 0, ''),\n",
       "  Text(0, 0, ''),\n",
       "  Text(0, 0, ''),\n",
       "  Text(0, 0, ''),\n",
       "  Text(0, 0, ''),\n",
       "  Text(0, 0, ''),\n",
       "  Text(0, 0, ''),\n",
       "  Text(0, 0, ''),\n",
       "  Text(0, 0, ''),\n",
       "  Text(0, 0, ''),\n",
       "  Text(0, 0, ''),\n",
       "  Text(0, 0, ''),\n",
       "  Text(0, 0, ''),\n",
       "  Text(0, 0, ''),\n",
       "  Text(0, 0, ''),\n",
       "  Text(0, 0, ''),\n",
       "  Text(0, 0, ''),\n",
       "  Text(0, 0, ''),\n",
       "  Text(0, 0, '')])"
      ]
     },
     "execution_count": 6,
     "metadata": {},
     "output_type": "execute_result"
    },
    {
     "data": {
      "image/png": "[encoded data removed]",
      "text/plain": [
       "<Figure size 720x360 with 1 Axes>"
      ]
     },
     "metadata": {
      "needs_background": "light"
     },
     "output_type": "display_data"
    }
   ],
   "source": [
    "import matplotlib.pyplot as plt\n",
    "# data.total= data.FTAG + data.FTHG\n",
    "fig = plt.figure(figsize = (10,5))\n",
    "ax = fig.gca()\n",
    "plt.hist(data.FTHG + data.FTAG,bins=10,edgecolor='black')\n",
    "plt.xticks(range(20))"
   ]
  },
  {
   "cell_type": "code",
   "execution_count": 7,
   "metadata": {},
   "outputs": [
    {
     "data": {
      "image/png": "[encoded data removed]",
      "text/plain": [
       "<Figure size 432x288 with 1 Axes>"
      ]
     },
     "metadata": {
      "needs_background": "light"
     },
     "output_type": "display_data"
    }
   ],
   "source": [
    "# H_A_D counting\n",
    "import matplotlib.pyplot as plt\n",
    "def resultAllMatch():\n",
    "    countH, countA, countD = 0,0,0\n",
    "    for index, match in data.iterrows():\n",
    "        if match.FTR == 'H':\n",
    "            countH += 1\n",
    "        elif match.FTR == 'A':\n",
    "            countA += 1\n",
    "        else:\n",
    "            countD += 1\n",
    "    x = np.arange(3)\n",
    "    width = 0.5\n",
    "    plt.bar(x, [countH, countD, countA], width, color=['red', 'green', 'blue'])\n",
    "    plt.xlabel(\"Fulltime Result\")\n",
    "    plt.ylabel(\"Match\")\n",
    "    bars = (\"Home\", \"Draw\", \"Away\")\n",
    "    plt.xticks(x, bars)\n",
    "resultAllMatch()"
   ]
  },
  {
   "cell_type": "code",
   "execution_count": 8,
   "metadata": {},
   "outputs": [
    {
     "name": "stdout",
     "output_type": "stream",
     "text": [
      "WIN RATE: 76.84%\n",
      "DRAW RATE: 13.68%\n",
      "LOSE RATE: 9.47%\n"
     ]
    },
    {
     "data": {
      "image/png": "[encoded data removed]",
      "text/plain": [
       "<Figure size 432x288 with 1 Axes>"
      ]
     },
     "metadata": {
      "needs_background": "light"
     },
     "output_type": "display_data"
    }
   ],
   "source": [
    "\n",
    "def homePerformance(team):\n",
    "    countW, countL, countD = 0,0,0\n",
    "    for index, match in data.iterrows():\n",
    "        if str(match.HomeTeam) == team:\n",
    "            if match.FTR == 'H':\n",
    "                countW += 1\n",
    "            elif match.FTR == 'A':\n",
    "                countL += 1\n",
    "            else:\n",
    "                countD += 1\n",
    "    print('WIN RATE: {:.2f}%\\nDRAW RATE: {:.2f}%\\nLOSE RATE: {:.2f}%'.format(\n",
    "        100*countW/(countW+countD+countL),\n",
    "        100*countD/(countW+countD+countL),\n",
    "        100*countL/(countW+countD+countL))\n",
    "        )\n",
    "    x = np.arange(3)\n",
    "    width = 0.5\n",
    "    plt.bar(x, [countW, countD, countL], width, color=['red', 'green', 'blue'])\n",
    "    plt.xlabel(\"Fulltime Result\")\n",
    "    plt.ylabel(\"Match\")\n",
    "    bars = (\"WIN\", \"Draw\", \"LOSE\")\n",
    "    plt.xticks(x, bars)\n",
    "homePerformance('Man City')"
   ]
  },
  {
   "cell_type": "code",
   "execution_count": 9,
   "metadata": {},
   "outputs": [
    {
     "ename": "IndentationError",
     "evalue": "expected an indented block (Temp/ipykernel_34356/3504297568.py, line 2)",
     "output_type": "error",
     "traceback": [
      "\u001b[1;36m  File \u001b[1;32m\"C:\\Users\\duyvu\\AppData\\Local\\Temp/ipykernel_34356/3504297568.py\"\u001b[1;36m, line \u001b[1;32m2\u001b[0m\n\u001b[1;33m    \u001b[0m\n\u001b[1;37m    ^\u001b[0m\n\u001b[1;31mIndentationError\u001b[0m\u001b[1;31m:\u001b[0m expected an indented block\n"
     ]
    }
   ],
   "source": [
    "def predictResult(home, away):\n",
    "    "
   ]
  }
 ],
 "metadata": {
  "interpreter": {
   "hash": "02b0435ae748e3a15a6a0dee7c409413bf7858adcd7484598f0f0d54cd6df5b8"
  },
  "kernelspec": {
   "display_name": "Python 3.9.7 64-bit",
   "language": "python",
   "name": "python3"
  },
  "language_info": {
   "codemirror_mode": {
    "name": "ipython",
    "version": 3
   },
   "file_extension": ".py",
   "mimetype": "text/x-python",
   "name": "python",
   "nbconvert_exporter": "python",
   "pygments_lexer": "ipython3",
   "version": "3.9.7"
  },
  "orig_nbformat": 4
 },
 "nbformat": 4,
 "nbformat_minor": 2
}
